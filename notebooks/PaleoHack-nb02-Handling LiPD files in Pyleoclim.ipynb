{
 "cells": [
  {
   "cell_type": "markdown",
   "id": "likely-findings",
   "metadata": {},
   "source": [
    "<img src='https://github.com/LinkedEarth/paleoHackathon/raw/gh-pages/images/LinkedEarth_Square_Small.png' width=\"100\">\n",
    "\n",
    "# Using Pyleoclim with LiPD files\n",
    "\n",
    "## Preamble\n",
    "\n",
    "Pyleoclim is capable of handling LiPD files directly. It operates at either the LiPD level (especially for its mapping functions) or the timeseries object level, for which we leverage the `Series` class described in Notebook 1.\n",
    "\n",
    "Please note that this notebook makes use of several previously published records. Cite these studies if used in a presentation/publication.\n",
    "\n",
    "- MD98-2170 record:  Stott, L., Cannariato, K., Thunell, R. et al. Decline of surface temperature and salinity in the western tropical Pacific Ocean in the Holocene epoch. Nature 431, 56–59 (2004). https://doi.org/10.1038/nature02903.\n",
    "\n",
    "- Euro2k database: PAGES2k Consortium., Emile-Geay, J., McKay, N. et al. A global multiproxy database for temperature reconstructions of the Common Era. Sci Data 4, 170088 (2017). https://doi.org/10.1038/sdata.2017.88\n",
    "\n",
    "- Crystal cave record: McCabe-Glynn, S., Johnson, K., Strong, C. et al. Variable North Pacific influence on drought in southwestern North America since AD 854. Nature Geosci 6, 617–621 (2013). https://doi.org/10.1038/ngeo1862\n",
    "\n",
    "## Working with LiPD objects\n",
    "\n",
    "The Linked Paleo Data format ([LiPD](http://www.clim-past-discuss.net/11/4309/2015/cpd-11-4309-2015-discussion.html)) was designed to simplify the sharing, reuse, and analysis of paleoclimate data by combining a flexible, hierarchical data container with linked data concepts. Data stored in the `.lpd` format can be directly loaded into Pyleoclim as a [Lipd object](https://pyleoclim-util.readthedocs.io/en/stable/core/ui.html#lipd-pyleoclim-lipd). \n",
    "\n",
    "Let's load a single LiPD file by initializaing an objet. You can either open a file/folder (local or url) by specifying `usr_path` and/or an exisiting dictonary loaded file using `lipd_dict`. Note that `lipd_dict` refers to a dictionary obtained through the LiPD utilities and not an another Lipd object. "
   ]
  },
  {
   "cell_type": "code",
   "execution_count": null,
   "id": "threaded-coordination",
   "metadata": {},
   "outputs": [],
   "source": [
    "import pyleoclim as pyleo\n",
    "d = pyleo.Lipd('../data/MD98-2170.Stott.2004.lpd')"
   ]
  },
  {
   "cell_type": "markdown",
   "id": "dynamic-singing",
   "metadata": {},
   "source": [
    "It is also possible to import multiple LiPD files from the same folder using this method. The `validate` parameter allows you to check the file against an online LiPD validator to make sure that the files contain the minumum amount of metadata. This process can take a long time for large folders. Setting remove to True ignores files judged invalid. Note that most functions *should* work even with invalid files, though not optimally."
   ]
  },
  {
   "cell_type": "code",
   "execution_count": null,
   "id": "continued-pennsylvania",
   "metadata": {},
   "outputs": [],
   "source": [
    "d_euro = pyleo.Lipd('../data/Euro2k')"
   ]
  },
  {
   "cell_type": "markdown",
   "id": "ultimate-cathedral",
   "metadata": {},
   "source": [
    "Some functions are meant to directly manipulate LiPD libraries. An example is [mapAllArchive](https://pyleoclim-util.readthedocs.io/en/latest/core/ui.html#pyleoclim.core.ui.Lipd.mapAllArchive) which will create a map of all the dataset locations, arranged by the type of archive."
   ]
  },
  {
   "cell_type": "code",
   "execution_count": null,
   "id": "peripheral-seattle",
   "metadata": {},
   "outputs": [],
   "source": [
    "d_euro.mapAllArchive()"
   ]
  },
  {
   "cell_type": "markdown",
   "id": "republican-loading",
   "metadata": {},
   "source": [
    "To change the projection to center around Europe and place the legend on the right side, one can write the following:"
   ]
  },
  {
   "cell_type": "code",
   "execution_count": null,
   "id": "about-invasion",
   "metadata": {},
   "outputs": [],
   "source": [
    "d_euro.mapAllArchive(projection='Orthographic', proj_default={'central_longitude':10, 'central_latitude':30},lgd_kwargs={'loc':'lower right'})"
   ]
  },
  {
   "cell_type": "markdown",
   "id": "wired-drilling",
   "metadata": {},
   "source": [
    "Pretty, eh? Well, that legend is a bit obstrusive. \n",
    "\n",
    "\n",
    "**Exercise 2.1**\n",
    "\n",
    "Place the legend outside the plot. (Hint: look up `bbox_to_anchor`  in [this Matplotlib guide](https://matplotlib.org/3.1.1/tutorials/intermediate/legend_guide.html))"
   ]
  },
  {
   "cell_type": "code",
   "execution_count": null,
   "id": "guilty-organizer",
   "metadata": {},
   "outputs": [],
   "source": [
    "## your code here##"
   ]
  },
  {
   "cell_type": "markdown",
   "id": "remarkable-south",
   "metadata": {},
   "source": [
    "To save the figure:"
   ]
  },
  {
   "cell_type": "code",
   "execution_count": null,
   "id": "satisfied-stanley",
   "metadata": {},
   "outputs": [],
   "source": [
    "d_euro.mapAllArchive(projection='Orthographic', proj_default={'central_longitude':10, 'central_latitude':30},savefig_settings={'path':'map.png','format':'png'})"
   ]
  },
  {
   "cell_type": "markdown",
   "id": "swedish-tissue",
   "metadata": {},
   "source": [
    "Although working with LiPD objects can be useful for mapping, most of the granularity in routine paleoceanographic studies happens at the individual timeseries level. Next, we will discuss how to obtain a LipdSeries from a Lipd object in Pyleoclim. "
   ]
  },
  {
   "cell_type": "markdown",
   "id": "textile-combine",
   "metadata": {},
   "source": [
    "## Working with LipdSeries\n",
    "\n",
    "The [`LipdSeries object`](https://pyleoclim-util.readthedocs.io/en/latest/core/ui.html#lipdseries-pyleoclim-lipdseries) is a child of the `Series` object, therefore all the methods discussed for `Series` in Notebook 1 will apply to these series. In addition to these functions, a few are specific to `LipdSeries`.\n",
    "\n",
    "### Creating a `LipdSeries` from a `Lipd` object.\n",
    " \n",
    "There are several ways to obtain a `LipdSeries` from a `Lipd` object:\n",
    "\n",
    "#### Using `Lipd.to_tso`\n",
    "\n",
    "If nothing is known about the content of the file, it may be useful to use the `Lipd.to_tso` method to obtain a list of dictionary that can be iterated upon."
   ]
  },
  {
   "cell_type": "code",
   "execution_count": null,
   "id": "apparent-miami",
   "metadata": {},
   "outputs": [],
   "source": [
    "ts_list = d.to_tso()\n",
    "for idx, item in enumerate(ts_list):\n",
    "    print(str(idx)+': '+item['dataSetName']+': '+item['paleoData_variableName'])"
   ]
  },
  {
   "cell_type": "markdown",
   "id": "pretty-copyright",
   "metadata": {},
   "source": [
    "Remember that Python indexing starts at 0, so the first timeseries is actually representative of depth.\n",
    "\n",
    "Let's create a `LipdSeries` object of the sea surface temperature (sst) variable:"
   ]
  },
  {
   "cell_type": "code",
   "execution_count": null,
   "id": "alpine-committee",
   "metadata": {},
   "outputs": [],
   "source": [
    "ts_sst=pyleo.LipdSeries(ts_list[5])"
   ]
  },
  {
   "cell_type": "markdown",
   "id": "cardiac-highlight",
   "metadata": {},
   "source": [
    "**Exercise 2.2**\n",
    "\n",
    "Now, that the object has been created use the plot function to plot the timeseries."
   ]
  },
  {
   "cell_type": "code",
   "execution_count": null,
   "id": "collaborative-suffering",
   "metadata": {},
   "outputs": [],
   "source": [
    "## your code here ##"
   ]
  },
  {
   "cell_type": "markdown",
   "id": "organized-mentor",
   "metadata": {},
   "source": [
    "Alternatively, Pyleoclim also supports passing the entire dictionary (d). In this case, you will be prompted to choose a `LipdSeries` based on the datasetname and variable name.\n",
    "\n",
    "**Exercise 2.3**\n",
    "\n",
    "Run the cell below and select mg/ca:\n"
   ]
  },
  {
   "cell_type": "code",
   "execution_count": null,
   "id": "formal-chambers",
   "metadata": {},
   "outputs": [],
   "source": [
    "ts_mgca = pyleo.LipdSeries(ts_list)"
   ]
  },
  {
   "cell_type": "markdown",
   "id": "nearby-posting",
   "metadata": {},
   "source": [
    "Let's check that we have the right series"
   ]
  },
  {
   "cell_type": "code",
   "execution_count": null,
   "id": "therapeutic-frank",
   "metadata": {},
   "outputs": [],
   "source": [
    "ts_mgca.plot()"
   ]
  },
  {
   "cell_type": "markdown",
   "id": "electric-victor",
   "metadata": {},
   "source": [
    "#### Using `Lipd.to_LipdSeries`\n",
    "\n",
    "Another option to create a `LipdSeries` object from a `Lipd` object is to use the [`Lipd.to_LipdSeries`](https://pyleoclim-util.readthedocs.io/en/latest/core/ui.html#pyleoclim.core.ui.Lipd.to_LipdSeries) method. This function can take an optional argument (the index of the series of interest) if it's known. Otherwise, the behavior is equivalent to using a lipd timeseries list.\n",
    "\n",
    "* ***Option 1***: Not passing the number of the timeseries. \n",
    "\n",
    "**Exercise 2.4**\n",
    "\n",
    "Run the cell below and choose d18O."
   ]
  },
  {
   "cell_type": "code",
   "execution_count": null,
   "id": "conscious-norfolk",
   "metadata": {},
   "outputs": [],
   "source": [
    "ts_d18O = d.to_LipdSeries()"
   ]
  },
  {
   "cell_type": "markdown",
   "id": "smooth-channels",
   "metadata": {},
   "source": [
    "* ***Option 2***: Use the `number` parameter to directly select a variable\n",
    "\n",
    "**Exercise 2.5** \n",
    "\n",
    "Use the `number` parameter to store the series with information about d18Ow into a new `LipdSeries` object called `ts_d18Ow` and plot the series."
   ]
  },
  {
   "cell_type": "code",
   "execution_count": null,
   "id": "literary-block",
   "metadata": {},
   "outputs": [],
   "source": [
    "## your code here ##"
   ]
  },
  {
   "cell_type": "markdown",
   "id": "wireless-dryer",
   "metadata": {},
   "source": [
    "#### Using `Lipd.to_LipdSeriesList` to create `MultipleSeries` object\n",
    "\n",
    "This method is intended to create a list of potential `LipdSeries` for use with `MultipleSeries`. Remember that a `MultipleSeries` object can be created using a list of `Series`. Since `LipdSeries` is a child of `Series`, a `MultipleSeries` object can also be created from a list of `LipdSeries`. "
   ]
  },
  {
   "cell_type": "code",
   "execution_count": null,
   "id": "pleasant-morrison",
   "metadata": {},
   "outputs": [],
   "source": [
    "ts_SeriesList = d.to_LipdSeriesList()"
   ]
  },
  {
   "cell_type": "markdown",
   "id": "returning-surfing",
   "metadata": {},
   "source": [
    "Since ts_SeriesList is a list, it can be sliced for variables of interest. Here, let's use only the sst and d18Ow variables to create a `MultipleSeries` object."
   ]
  },
  {
   "cell_type": "code",
   "execution_count": null,
   "id": "pleased-season",
   "metadata": {},
   "outputs": [],
   "source": [
    "ms_md70 = pyleo.MultipleSeries(ts_SeriesList[4:])"
   ]
  },
  {
   "cell_type": "markdown",
   "id": "prepared-cooler",
   "metadata": {},
   "source": [
    "And let's plot!"
   ]
  },
  {
   "cell_type": "code",
   "execution_count": null,
   "id": "fantastic-bulletin",
   "metadata": {},
   "outputs": [],
   "source": [
    "ms_md70.stackplot()"
   ]
  },
  {
   "cell_type": "markdown",
   "id": "comprehensive-welding",
   "metadata": {},
   "source": [
    "This method is fast for a limited number of timeseries. We are actively working on querying `Lipd` objects for appropriate timeseries. In the meantime, here is another way to create a `MultipleSeries` object from a larger database.\n",
    "\n",
    "First, enumerate the available timeseries. "
   ]
  },
  {
   "cell_type": "code",
   "execution_count": null,
   "id": "modular-emerald",
   "metadata": {},
   "outputs": [],
   "source": [
    "ts_list_euro = d_euro.to_tso()\n",
    "for idx, item in enumerate(ts_list_euro):\n",
    "    if 'archiveType' in item.keys():\n",
    "        at = item['archiveType']\n",
    "    else:\n",
    "        at ='other'\n",
    "    print(str(idx)+': '+item['dataSetName']+': '+at + ': ' +item['paleoData_variableName'])"
   ]
  },
  {
   "cell_type": "markdown",
   "id": "smoking-nebraska",
   "metadata": {},
   "source": [
    "Let's collect all the indices for coral d18O records and create a `MultipleSeries` object."
   ]
  },
  {
   "cell_type": "code",
   "execution_count": null,
   "id": "incorrect-shelf",
   "metadata": {},
   "outputs": [],
   "source": [
    "idx = [0,22,35]\n",
    " \n",
    "ts_list_euro_coral =[]\n",
    "\n",
    "for i in idx:\n",
    "    ts_list_euro_coral.append(pyleo.LipdSeries(ts_list_euro[i]))\n",
    "\n",
    "ms_euro_coral = pyleo.MultipleSeries(ts_list_euro_coral)\n",
    "ms_euro_coral.stackplot()"
   ]
  },
  {
   "cell_type": "markdown",
   "id": "specified-batch",
   "metadata": {},
   "source": [
    "An alternative option is to extract all LipdSeries using `Lipd.to_LipdSeriesList` and slicing. Note that this option could be slow for a large database.\n",
    "\n",
    "**Exercise 2.6**\n",
    "\n",
    "Use the alternative option to recreate the `MultipleSeries` object containing all coral d18O series."
   ]
  },
  {
   "cell_type": "code",
   "execution_count": null,
   "id": "geographic-navigation",
   "metadata": {},
   "outputs": [],
   "source": [
    "## your code here##"
   ]
  },
  {
   "cell_type": "markdown",
   "id": "exceptional-adventure",
   "metadata": {},
   "source": [
    "### Loading a LipdSeries with an age ensemble\n",
    "\n",
    "Pyleoclim makes use of age ensembles for uncertainty quantification. Although the package doesn't contain age modeling software, it is capable of dealing with them.\n",
    "\n",
    "*Note*: Since most age modeling software have an R interface, age modeling for LiPD datasets is handled through the [`GeochronR`](https://nickmckay.github.io/GeoChronR/) package. Note that Jupyter can support R code through Magic so it is possible to use both software using the Jupyter environment. \n",
    "\n",
    "Let's load a file with such an age model."
   ]
  },
  {
   "cell_type": "code",
   "execution_count": null,
   "id": "matched-quality",
   "metadata": {},
   "outputs": [],
   "source": [
    "d_cave = pyleo.Lipd('../data/Crystal.McCabe-Glynn.2013.lpd')"
   ]
  },
  {
   "cell_type": "markdown",
   "id": "intelligent-start",
   "metadata": {},
   "source": [
    "Let's load the d18O record."
   ]
  },
  {
   "cell_type": "code",
   "execution_count": null,
   "id": "novel-remains",
   "metadata": {},
   "outputs": [],
   "source": [
    "ts = d_cave.to_LipdSeries()"
   ]
  },
  {
   "cell_type": "markdown",
   "id": "dying-christmas",
   "metadata": {},
   "source": [
    "To attach the age model ensemble, you can used the function `chronEnsembleToPaleo`(https://pyleoclim-util.readthedocs.io/en/latest/core/ui.html#pyleoclim.core.ui.LipdSeries.chronEnsembleToPaleo).\n",
    "\n",
    "Note that this function needs to reference the original `Lipd` object (d_cave, in this case)."
   ]
  },
  {
   "cell_type": "code",
   "execution_count": null,
   "id": "honey-retailer",
   "metadata": {},
   "outputs": [],
   "source": [
    "ens_cave = ts.chronEnsembleToPaleo(d_cave)"
   ]
  },
  {
   "cell_type": "code",
   "execution_count": null,
   "id": "painted-agreement",
   "metadata": {},
   "outputs": [],
   "source": [
    "fig,ax=ens_cave.common_time(method='interp').plot_envelope()"
   ]
  },
  {
   "cell_type": "markdown",
   "id": "provincial-isolation",
   "metadata": {},
   "source": [
    "### Functions specific to LipdSeries objects\n",
    "\n",
    "#### Mapping\n",
    "\n",
    "Because a `LipdSeries` object contains richer metadata than their `Series` counterpart, a few more functionalities are available. One such functionality is to `map` the location of the record.\n",
    "\n",
    "Let's [`map`](https://pyleoclim-util.readthedocs.io/en/latest/core/ui.html#pyleoclim.core.ui.LipdSeries.map) the record from Stott et al. (2004) that we loaded originally. Remember that we extracted several `LipdSeries` from this record. Any of them will work for mapping purposes."
   ]
  },
  {
   "cell_type": "code",
   "execution_count": null,
   "id": "equipped-probe",
   "metadata": {},
   "outputs": [],
   "source": [
    "ts_sst.map()"
   ]
  },
  {
   "cell_type": "markdown",
   "id": "consolidated-oracle",
   "metadata": {},
   "source": [
    "By default, Pyleoclim uses a color palette for each archive. You can modify that behavior by passing a different color to the function."
   ]
  },
  {
   "cell_type": "code",
   "execution_count": null,
   "id": "prepared-swift",
   "metadata": {},
   "outputs": [],
   "source": [
    "ts_sst.map(color='k')"
   ]
  },
  {
   "cell_type": "markdown",
   "id": "radical-volleyball",
   "metadata": {},
   "source": [
    "If you want to get fancier, you need to deal with the mapping package [cartopy](https://scitools.org.uk/cartopy/docs/latest/). God help you."
   ]
  },
  {
   "cell_type": "code",
   "execution_count": null,
   "id": "brazilian-transcription",
   "metadata": {},
   "outputs": [],
   "source": [
    "import cartopy.crs as ccrs\n",
    "\n",
    "label = 'MD98-2170'\n",
    "fig,ax=ts_sst.map(markersize = 100, mute=True) # important as to not return the figure before adding the label\n",
    "ax.text(130,-2,label,transform=ccrs.PlateCarree()) #need to use the transform option for use with cartopy to set the projection for the data, in this case the label. \n",
    "pyleo.showfig(fig)"
   ]
  },
  {
   "cell_type": "markdown",
   "id": "massive-fleece",
   "metadata": {},
   "source": [
    "**Exercise 2.7**\n",
    "\n",
    "Map a record from the Euro2k database. "
   ]
  },
  {
   "cell_type": "code",
   "execution_count": null,
   "id": "residential-allergy",
   "metadata": {},
   "outputs": [],
   "source": [
    "## your code here ##"
   ]
  },
  {
   "cell_type": "markdown",
   "id": "invisible-louisiana",
   "metadata": {},
   "source": [
    "#### Dashboards\n",
    "\n",
    "[Dashboards](https://pyleoclim-util.readthedocs.io/en/latest/core/ui.html#pyleoclim.core.ui.LipdSeries.dashboard) plot essential information about a `LipdSeries`, making use of various functions applicable to `Series` and `LipdSeries`. Everything is customizable by passing the appropriate arguments to each of the functionalities."
   ]
  },
  {
   "cell_type": "code",
   "execution_count": null,
   "id": "infectious-numbers",
   "metadata": {},
   "outputs": [],
   "source": [
    "ts_sst.dashboard()"
   ]
  },
  {
   "cell_type": "markdown",
   "id": "warming-settle",
   "metadata": {},
   "source": [
    "Notice the four elements: \n",
    "1. the timeseries itself\n",
    "1. its distribution\n",
    "1. a map of the site\n",
    "1. a spectral estimate, complete with estimate of significance\n",
    "\n",
    "This is about what you need to get a synopsis of a dataset. Note that spectral analysis can be slow with long timeseries (see below)"
   ]
  },
  {
   "cell_type": "markdown",
   "id": "legitimate-buddy",
   "metadata": {},
   "source": [
    "**Exercise 2.8**\n",
    "\n",
    "Create a dashboard for the d18O record from Crystal cave, removing the metadata on the right to give more space to the plots themselves. "
   ]
  },
  {
   "cell_type": "code",
   "execution_count": null,
   "id": "foster-oxygen",
   "metadata": {},
   "outputs": [],
   "source": [
    "## your code here ##"
   ]
  }
 ],
 "metadata": {
  "kernelspec": {
   "display_name": "Python 3",
   "language": "python",
   "name": "python3"
  },
  "language_info": {
   "codemirror_mode": {
    "name": "ipython",
    "version": 3
   },
   "file_extension": ".py",
   "mimetype": "text/x-python",
   "name": "python",
   "nbconvert_exporter": "python",
   "pygments_lexer": "ipython3",
   "version": "3.8.3"
  }
 },
 "nbformat": 4,
 "nbformat_minor": 5
}
