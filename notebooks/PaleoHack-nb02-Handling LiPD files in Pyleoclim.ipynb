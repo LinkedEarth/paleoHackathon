{
 "cells": [
  {
   "cell_type": "markdown",
   "id": "located-territory",
   "metadata": {},
   "source": [
    "<img src='https://github.com/LinkedEarth/Logos/raw/master/PYLEOCLIM_logo_HORZ-01.png' width=\"800\">\n",
    "\n",
    "# 2. Using Pyleoclim with LiPD files\n",
    "\n",
    "## Preamble\n",
    "\n",
    "Thought it is not a requirement for its use, Pyleoclim can handle LiPD files directly. For instance, Pyleoclim has a `Lipd` object that stores all the content of a LiPD file in memory (ie., root metadata, location, paleodata information, chrondata information...). Some methods are specific to this object (e.g., mapping). However, a majority of the available analyses operate on a time series `LipdSeries`, for which we leverage the `Series` class described in Notebook 1. The `LipdSeries` object has a few more metadata information, which allows for more in-depth functionalities. \n",
    "\n",
    "This notebook makes use of several previously published records. Please cite these studies if used in a presentation/publication.\n",
    "\n",
    "- MD98-2170 record:  Stott, L., Cannariato, K., Thunell, R. et al. Decline of surface temperature and salinity in the western tropical Pacific Ocean in the Holocene epoch. Nature 431, 56–59 (2004). https://doi.org/10.1038/nature02903.\n",
    "\n",
    "- Euro2k database: PAGES2k Consortium., Emile-Geay, J., McKay, N. et al. A global multiproxy database for temperature reconstructions of the Common Era. Sci Data 4, 170088 (2017). https://doi.org/10.1038/sdata.2017.88\n",
    "\n",
    "- Crystal cave record: McCabe-Glynn, S., Johnson, K., Strong, C. et al. Variable North Pacific influence on drought in southwestern North America since AD 854. Nature Geosci 6, 617–621 (2013). https://doi.org/10.1038/ngeo1862\n",
    "\n",
    "## Working with LiPD objects\n",
    "\n",
    "The Linked Paleo Data format ([LiPD](http://www.clim-past-discuss.net/11/4309/2015/cpd-11-4309-2015-discussion.html)) was designed to simplify the sharing, reuse, and analysis of paleoclimate data by combining a flexible, hierarchical data container with linked data concepts. Data stored in the `.lpd` format can be directly loaded into Pyleoclim as a [Lipd object](https://pyleoclim-util.readthedocs.io/en/master/core/ui.html#lipd-pyleoclim-lipd). \n",
    "\n",
    "Let's load a single LiPD file by initializaing an object. You can either open a file/folder (local or url) by specifying `usr_path` and/or an exisiting dictonary loaded file using `lipd_dict`. Note that `lipd_dict` refers to a dictionary obtained through the LiPD utilities and not an another Lipd object. "
   ]
  },
  {
   "cell_type": "code",
   "execution_count": null,
   "id": "fatty-category",
   "metadata": {},
   "outputs": [],
   "source": [
    "import pyleoclim as pyleo\n",
    "d = pyleo.Lipd('../data/MD98-2170.Stott.2004.lpd')"
   ]
  },
  {
   "cell_type": "markdown",
   "id": "arabic-frederick",
   "metadata": {},
   "source": [
    "It is also possible to import multiple LiPD files from the same folder using this method. The `validate` parameter allows you to check the file against an online LiPD validator to make sure that the files contain the minumum amount of metadata. This process can take a long time for large folders. Setting remove to True ignores files judged invalid. Note that most functions *should* work even with invalid files, though not optimally."
   ]
  },
  {
   "cell_type": "code",
   "execution_count": null,
   "id": "spare-disney",
   "metadata": {},
   "outputs": [],
   "source": [
    "d_euro = pyleo.Lipd('../data/Euro2k')"
   ]
  },
  {
   "cell_type": "markdown",
   "id": "expected-popularity",
   "metadata": {},
   "source": [
    "Some functions are meant to directly manipulate LiPD libraries. An example is [mapAllArchive](https://pyleoclim-util.readthedocs.io/en/master/core/ui.html#pyleoclim.core.ui.Lipd.mapAllArchive) which will create a map of all the dataset locations, arranged by the type of archive."
   ]
  },
  {
   "cell_type": "code",
   "execution_count": null,
   "id": "productive-production",
   "metadata": {},
   "outputs": [],
   "source": [
    "d_euro.mapAllArchive()"
   ]
  },
  {
   "cell_type": "markdown",
   "id": "periodic-currency",
   "metadata": {},
   "source": [
    "To change the projection to center around Europe and place the legend on the right side, one can write the following:"
   ]
  },
  {
   "cell_type": "code",
   "execution_count": null,
   "id": "cutting-contact",
   "metadata": {},
   "outputs": [],
   "source": [
    "d_euro.mapAllArchive(projection='Orthographic', proj_default={'central_longitude':10, 'central_latitude':30},lgd_kwargs={'loc':'lower right'})"
   ]
  },
  {
   "cell_type": "markdown",
   "id": "proved-spelling",
   "metadata": {},
   "source": [
    "Pretty, eh? Well, that legend is a bit obstrusive. \n",
    "\n",
    "\n",
    "**Exercise 2.1**\n",
    "\n",
    "Place the legend outside the plot. (Hint: look up `bbox_to_anchor`  in [this Matplotlib guide](https://matplotlib.org/stable/tutorials/intermediate/legend_guide.html))"
   ]
  },
  {
   "cell_type": "code",
   "execution_count": null,
   "id": "random-franklin",
   "metadata": {},
   "outputs": [],
   "source": [
    "## your code here##"
   ]
  },
  {
   "cell_type": "markdown",
   "id": "crucial-trademark",
   "metadata": {},
   "source": [
    "To save the figure:"
   ]
  },
  {
   "cell_type": "code",
   "execution_count": null,
   "id": "certified-remainder",
   "metadata": {},
   "outputs": [],
   "source": [
    "d_euro.mapAllArchive(projection='Orthographic', proj_default={'central_longitude':10, 'central_latitude':30},savefig_settings={'path':'map.png','format':'png'})"
   ]
  },
  {
   "cell_type": "markdown",
   "id": "resistant-behavior",
   "metadata": {},
   "source": [
    "Although working with LiPD objects can be useful for mapping, most of the granularity in routine paleoceanographic studies happens at the individual timeseries level. Next, we will discuss how to obtain a LipdSeries from a Lipd object in Pyleoclim. "
   ]
  },
  {
   "cell_type": "markdown",
   "id": "derived-tuesday",
   "metadata": {},
   "source": [
    "## Working with LipdSeries\n",
    "\n",
    "The [`LipdSeries object`](https://pyleoclim-util.readthedocs.io/en/master/core/ui.html#lipdseries-pyleoclim-lipdseries) is a child of the `Series` object, therefore all the methods discussed for `Series` in Notebook 1 will apply to these series. In addition to these functions, a few are specific to `LipdSeries`.\n",
    "\n",
    "### Creating a `LipdSeries` from a `Lipd` object.\n",
    " \n",
    "There are several ways to obtain a `LipdSeries` from a `Lipd` object. Each method has its advantages and disadvantages. Let's have a look at all of them. \n",
    "\n",
    "#### Using `Lipd.to_tso`\n",
    "\n",
    "If nothing is known about the content of the file, it may be useful to use the `Lipd.to_tso` method to obtain a list of dictionary that can be iterated upon. Dictionaries are native to Python and can be easily explored as shown below:"
   ]
  },
  {
   "cell_type": "code",
   "execution_count": null,
   "id": "statewide-danish",
   "metadata": {},
   "outputs": [],
   "source": [
    "ts_list = d.to_tso()\n",
    "for idx, item in enumerate(ts_list):\n",
    "    print(str(idx)+': '+item['dataSetName']+': '+item['paleoData_variableName'])"
   ]
  },
  {
   "cell_type": "code",
   "execution_count": null,
   "id": "43ea799f",
   "metadata": {},
   "outputs": [],
   "source": [
    "ts_list[5].keys()"
   ]
  },
  {
   "cell_type": "markdown",
   "id": "sharing-sheriff",
   "metadata": {},
   "source": [
    "Remember that Python indexing starts at 0, so the first timeseries is actually representative of depth.\n",
    "\n",
    "Let's create a `LipdSeries` object of the sea surface temperature (sst) variable:"
   ]
  },
  {
   "cell_type": "code",
   "execution_count": null,
   "id": "based-lloyd",
   "metadata": {},
   "outputs": [],
   "source": [
    "ts_sst=pyleo.LipdSeries(ts_list[5])"
   ]
  },
  {
   "cell_type": "markdown",
   "id": "outstanding-divorce",
   "metadata": {},
   "source": [
    "**Exercise 2.2**\n",
    "\n",
    "Now that the object has been created, use the `plot()` function to display the timeseries."
   ]
  },
  {
   "cell_type": "code",
   "execution_count": null,
   "id": "b14f2c9e",
   "metadata": {},
   "outputs": [],
   "source": [
    "##your code here##"
   ]
  },
  {
   "cell_type": "markdown",
   "id": "forty-mexican",
   "metadata": {},
   "source": [
    "Alternatively, Pyleoclim also supports passing the entire dictionary (d). In this case, you will be prompted to choose a `LipdSeries` based on the datasetname and variable name.\n",
    "\n",
    "**Exercise 2.3**\n",
    "\n",
    "Run the cell below and select mg/ca:\n"
   ]
  },
  {
   "cell_type": "code",
   "execution_count": null,
   "id": "committed-balance",
   "metadata": {},
   "outputs": [],
   "source": [
    "ts_mgca = pyleo.LipdSeries(ts_list)"
   ]
  },
  {
   "cell_type": "markdown",
   "id": "convinced-smoke",
   "metadata": {},
   "source": [
    "Let's check that we have the right series"
   ]
  },
  {
   "cell_type": "code",
   "execution_count": null,
   "id": "grateful-patrick",
   "metadata": {},
   "outputs": [],
   "source": [
    "ts_mgca.plot()"
   ]
  },
  {
   "cell_type": "markdown",
   "id": "intensive-plastic",
   "metadata": {},
   "source": [
    "#### Using `Lipd.to_LipdSeries`\n",
    "\n",
    "Another option to create a `LipdSeries` object from a `Lipd` object is to use the [`Lipd.to_LipdSeries`](https://pyleoclim-util.readthedocs.io/en/master/core/ui.html#pyleoclim.core.ui.Lipd.to_LipdSeries) method. This function can take an optional argument (the index of the series of interest) if it is known. Otherwise, the behavior is equivalent to using a lipd timeseries list.\n",
    "\n",
    "* ***Option 1***: Not passing the number of the timeseries. \n",
    "\n",
    "**Exercise 2.4**\n",
    "\n",
    "Run the cell below and choose d18O."
   ]
  },
  {
   "cell_type": "code",
   "execution_count": null,
   "id": "french-dairy",
   "metadata": {},
   "outputs": [],
   "source": [
    "ts_d18O = d.to_LipdSeries()"
   ]
  },
  {
   "cell_type": "markdown",
   "id": "limited-statistics",
   "metadata": {},
   "source": [
    "* ***Option 2***: Use the `number` parameter to directly select a variable\n",
    "\n",
    "**Exercise 2.5** \n",
    "\n",
    "Use the `number` parameter to store the series with information about d18Ow into a new `LipdSeries` object called `ts_d18Ow` and plot the series."
   ]
  },
  {
   "cell_type": "code",
   "execution_count": null,
   "id": "05f5cb45",
   "metadata": {},
   "outputs": [],
   "source": [
    "##your code here##"
   ]
  },
  {
   "cell_type": "markdown",
   "id": "78a90bea",
   "metadata": {},
   "source": [
    "**Warning**: By construction, a `LipdSeries` requires float or entries that can be [coerced](https://python-reference.readthedocs.io/en/latest/docs/functions/coerce.html) to a `float` type, since most of the functionalities require floats to work correctly. If a column contains a string (for instance to signal the name of a core), the `LipdSeries` object won't be created.  \n",
    "\n",
    "\n",
    "Let's demonstrate with the Euro2k database:"
   ]
  },
  {
   "cell_type": "code",
   "execution_count": null,
   "id": "33a6f275",
   "metadata": {},
   "outputs": [],
   "source": [
    "ts_list_euro = d_euro.to_tso()\n",
    "for idx, item in enumerate(ts_list_euro):\n",
    "    if 'archiveType' in item.keys():\n",
    "        at = item['archiveType']\n",
    "    else:\n",
    "        at ='other'\n",
    "    print(str(idx)+': '+item['dataSetName']+': '+at + ': ' +item['paleoData_variableName'])"
   ]
  },
  {
   "cell_type": "markdown",
   "id": "e8edd178",
   "metadata": {},
   "source": [
    "One of the timeseries refers to SampleID, which is unlikely to be coerced into a float. Choose the corresponding number and enter it in the cell below:"
   ]
  },
  {
   "cell_type": "code",
   "execution_count": null,
   "id": "51f61d37",
   "metadata": {},
   "outputs": [],
   "source": [
    "ts_sampleID = d_euro.to_LipdSeries(number=__)"
   ]
  },
  {
   "cell_type": "markdown",
   "id": "2db6879b",
   "metadata": {},
   "source": [
    "Pyleoclim informs that it could not be converted to float and returns an error."
   ]
  },
  {
   "cell_type": "markdown",
   "id": "compliant-taxation",
   "metadata": {},
   "source": [
    "#### Using `Lipd.to_LipdSeriesList` to create `MultipleSeries` object\n",
    "\n",
    "This method is intended to create a list of potential `LipdSeries` for use with `MultipleSeries`. Remember that a `MultipleSeries` object can be created using a list of `Series`. Since `LipdSeries` is a child of `Series`, a `MultipleSeries` object can also be created from a list of `LipdSeries`. \n",
    "\n",
    "In a lot of ways, it is intended to function like the `Lipd.to_tso` object. However, the list contains `LipdSeries` objects that can be directly utilized. \n",
    "\n",
    "Let's look at an example:\n"
   ]
  },
  {
   "cell_type": "code",
   "execution_count": null,
   "id": "improved-dominant",
   "metadata": {},
   "outputs": [],
   "source": [
    "ts_SeriesList = d.to_LipdSeriesList()"
   ]
  },
  {
   "cell_type": "markdown",
   "id": "violent-czech",
   "metadata": {},
   "source": [
    "Since ts_SeriesList is a list, it can be sliced for variables of interest. Here, let's use only the sst and d18Ow variables to create a `MultipleSeries` object."
   ]
  },
  {
   "cell_type": "code",
   "execution_count": null,
   "id": "blocked-isolation",
   "metadata": {},
   "outputs": [],
   "source": [
    "ms_md70 = pyleo.MultipleSeries(ts_SeriesList[4:])"
   ]
  },
  {
   "cell_type": "markdown",
   "id": "pretty-swaziland",
   "metadata": {},
   "source": [
    "And let's plot!"
   ]
  },
  {
   "cell_type": "code",
   "execution_count": null,
   "id": "alert-hardware",
   "metadata": {},
   "outputs": [],
   "source": [
    "ms_md70.stackplot()"
   ]
  },
  {
   "cell_type": "markdown",
   "id": "handed-diameter",
   "metadata": {},
   "source": [
    "This method is fast for a limited number of timeseries. To create a `MultipleSeries` object from a larger database, follow the following recipe.\n",
    "\n",
    "First, enumerate the available timeseries. "
   ]
  },
  {
   "cell_type": "code",
   "execution_count": null,
   "id": "optional-raleigh",
   "metadata": {},
   "outputs": [],
   "source": [
    "ts_list_euro = d_euro.to_tso()\n",
    "for idx, item in enumerate(ts_list_euro):\n",
    "    if 'archiveType' in item.keys():\n",
    "        at = item['archiveType']\n",
    "    else:\n",
    "        at ='other'\n",
    "    print(str(idx)+': '+item['dataSetName']+': '+at + ': ' +item['paleoData_variableName'])"
   ]
  },
  {
   "cell_type": "markdown",
   "id": "representative-forest",
   "metadata": {},
   "source": [
    "Let's collect all the indices for coral d18O records and put them in a list: "
   ]
  },
  {
   "cell_type": "code",
   "execution_count": null,
   "id": "6deeeb8f",
   "metadata": {},
   "outputs": [],
   "source": [
    "idx = [_____]"
   ]
  },
  {
   "cell_type": "markdown",
   "id": "8d7e8580",
   "metadata": {},
   "source": [
    "From this list, we can create a `MultipleSeries` object:"
   ]
  },
  {
   "cell_type": "code",
   "execution_count": null,
   "id": "center-myrtle",
   "metadata": {},
   "outputs": [],
   "source": [
    "ts_list_euro_coral =[]\n",
    "\n",
    "for i in idx:\n",
    "    ts_list_euro_coral.append(pyleo.LipdSeries(ts_list_euro[i]))\n",
    "\n",
    "ms_euro_coral = pyleo.MultipleSeries(ts_list_euro_coral)\n",
    "ms_euro_coral.stackplot()"
   ]
  },
  {
   "cell_type": "markdown",
   "id": "bda31cd1",
   "metadata": {},
   "source": [
    "An alternative option is to extract all LipdSeries using `Lipd.to_LipdSeriesList` and slicing. Note that this option could be slow for a large collection of series.\n",
    "\n",
    "**Important Note**\n",
    "\n",
    "Remember that the Euro2k database contains timeseries that cannot be coerced to float. In order to avoid returning an error, Pyleoclim is instructed to just pass over these series and warns the user. Consequently, the number of timeseries returned by `Lipd.to_LipdSeriesList` could be less than the number returned by `Lipd.to_tso`. The indexing is also affected. \n",
    "\n",
    "One option to get the slicing indices is shown below:"
   ]
  },
  {
   "cell_type": "code",
   "execution_count": null,
   "id": "6753f599",
   "metadata": {},
   "outputs": [],
   "source": [
    "import numpy as np\n",
    "idx_pass = 0\n",
    "for idx, item in enumerate(ts_list_euro):\n",
    "    if 'archiveType' in item.keys():\n",
    "        at = item['archiveType']\n",
    "    else:\n",
    "        at ='other'\n",
    "    try:\n",
    "        np.array(item['paleoData_values'],dtype=float) \n",
    "        print(str(idx-idx_pass)+': '+item['dataSetName']+': '+at + ': ' +item['paleoData_variableName'])\n",
    "    except:\n",
    "        idx_pass+=1"
   ]
  },
  {
   "cell_type": "markdown",
   "id": "smoking-stocks",
   "metadata": {},
   "source": [
    "**Exercise 2.6**\n",
    "\n",
    "Use the alternative option to recreate the `MultipleSeries` object containing all coral d18O series and plot them using the `stackplot` method."
   ]
  },
  {
   "cell_type": "code",
   "execution_count": null,
   "id": "d9faa9b5",
   "metadata": {},
   "outputs": [],
   "source": [
    "##your code here##"
   ]
  },
  {
   "cell_type": "markdown",
   "id": "monthly-disney",
   "metadata": {},
   "source": [
    "### Loading a LipdSeries with an age ensemble\n",
    "\n",
    "Pyleoclim makes use of age ensembles for uncertainty quantification. Although the package doesn't contain age modeling software, it is capable of leveraging the output of such software.\n",
    "\n",
    "*Note*: Since most age modeling software have an R interface, age modeling for LiPD datasets is handled through the [`GeochronR`](https://nickmckay.github.io/GeoChronR/) package. Note that Jupyter can support R code through [Magics](https://ipython.readthedocs.io/en/stable/interactive/magics.html) so it is possible to use both software using the Jupyter environment. \n",
    "\n",
    "Let's load a file with such an age model."
   ]
  },
  {
   "cell_type": "code",
   "execution_count": null,
   "id": "jewish-madison",
   "metadata": {},
   "outputs": [],
   "source": [
    "d_cave = pyleo.Lipd('../data/Crystal.McCabe-Glynn.2013.lpd')"
   ]
  },
  {
   "cell_type": "markdown",
   "id": "certain-politics",
   "metadata": {},
   "source": [
    "Let's load the d18O record."
   ]
  },
  {
   "cell_type": "code",
   "execution_count": null,
   "id": "configured-technique",
   "metadata": {},
   "outputs": [],
   "source": [
    "ts = d_cave.to_LipdSeries()"
   ]
  },
  {
   "cell_type": "markdown",
   "id": "chief-biology",
   "metadata": {},
   "source": [
    "To attach the age model ensemble, you can used the function [`chronEnsembleToPaleo`](https://pyleoclim-util.readthedocs.io/en/master/core/ui.html#pyleoclim.core.ui.LipdSeries.chronEnsembleToPaleo).\n",
    "\n",
    "Note that this function needs to reference the original `Lipd` object (d_cave, in this case)."
   ]
  },
  {
   "cell_type": "code",
   "execution_count": null,
   "id": "prostate-universe",
   "metadata": {},
   "outputs": [],
   "source": [
    "ens_cave = ts.chronEnsembleToPaleo(d_cave)"
   ]
  },
  {
   "cell_type": "markdown",
   "id": "7c145e58-e411-4925-b2ff-7e39bd68b86a",
   "metadata": {},
   "source": [
    "We can now plot the record on this ensemble of ages. Prior to doing this, we need to align these time axes, which we do via `common_time()`:"
   ]
  },
  {
   "cell_type": "code",
   "execution_count": null,
   "id": "established-garage",
   "metadata": {},
   "outputs": [],
   "source": [
    "fig,ax=ens_cave.common_time(method='interp').plot_envelope()"
   ]
  },
  {
   "cell_type": "markdown",
   "id": "dirty-republic",
   "metadata": {},
   "source": [
    "### Functions specific to LipdSeries objects\n",
    "\n",
    "#### Mapping\n",
    "\n",
    "Because a `LipdSeries` object contains richer metadata than their `Series` counterpart, a few more functionalities are available. One such functionality is to `map` the location of the record.\n",
    "\n",
    "Let's [`map`](https://pyleoclim-util.readthedocs.io/en/master/core/ui.html#pyleoclim.core.ui.LipdSeries.map) the record from Stott et al. (2004) that we loaded originally. Remember that we extracted several `LipdSeries` from this record. Any of them will work for mapping purposes."
   ]
  },
  {
   "cell_type": "code",
   "execution_count": null,
   "id": "worse-mystery",
   "metadata": {},
   "outputs": [],
   "source": [
    "ts_sst.map(lgd_kwargs={'bbox_to_anchor':(1.5, 1)})"
   ]
  },
  {
   "cell_type": "markdown",
   "id": "spiritual-lincoln",
   "metadata": {},
   "source": [
    "By default, Pyleoclim uses a color palette for each archive. You can modify that behavior by passing a different color to the function."
   ]
  },
  {
   "cell_type": "code",
   "execution_count": null,
   "id": "interstate-notion",
   "metadata": {},
   "outputs": [],
   "source": [
    "ts_sst.map(color='k', lgd_kwargs={'bbox_to_anchor':(1.5, 1)})"
   ]
  },
  {
   "cell_type": "markdown",
   "id": "bibliographic-radius",
   "metadata": {},
   "source": [
    "If you want to get fancier, you need to deal with the mapping package [cartopy](https://scitools.org.uk/cartopy/docs/latest/). God help you."
   ]
  },
  {
   "cell_type": "code",
   "execution_count": null,
   "id": "middle-component",
   "metadata": {},
   "outputs": [],
   "source": [
    "import cartopy.crs as ccrs\n",
    "\n",
    "label = 'MD98-2170'\n",
    "fig,ax=ts_sst.map(markersize = 100, mute=True, lgd_kwargs={'bbox_to_anchor':(1.5, 1)}) # important as to not return the figure before adding the label\n",
    "ax.text(130,-2,label,transform=ccrs.PlateCarree()) #need to use the transform option for use with cartopy to set the projection for the data, in this case the label. \n",
    "pyleo.showfig(fig)"
   ]
  },
  {
   "cell_type": "markdown",
   "id": "raising-black",
   "metadata": {},
   "source": [
    "**Exercise 2.7**\n",
    "\n",
    "Map a record from the Euro2k database. "
   ]
  },
  {
   "cell_type": "code",
   "execution_count": null,
   "id": "regulated-harmony",
   "metadata": {},
   "outputs": [],
   "source": [
    "## your code here ##"
   ]
  },
  {
   "cell_type": "markdown",
   "id": "62a12d68",
   "metadata": {},
   "source": [
    "#### Map records close to the one of interest. \n",
    "\n",
    "The [`LipdSeries.mapNearRecord`](https://pyleoclim-util.readthedocs.io/en/latest/core/ui.html#pyleoclim.core.ui.LipdSeries.mapNearRecord) method allows to plot the nearest records in a LiPD database.\n",
    "\n",
    "Let's have a look at a record from the Euro2k database again:"
   ]
  },
  {
   "cell_type": "code",
   "execution_count": null,
   "id": "74c02957",
   "metadata": {},
   "outputs": [],
   "source": [
    "for idx, item in enumerate(ts_list_euro):\n",
    "    if 'archiveType' in item.keys():\n",
    "        at = item['archiveType']\n",
    "    else:\n",
    "        at ='other'\n",
    "    print(str(idx)+': '+item['dataSetName']+': '+at + ': ' +item['paleoData_variableName'])"
   ]
  },
  {
   "cell_type": "markdown",
   "id": "2f7ff8a2",
   "metadata": {},
   "source": [
    "I am really interested in the 'Eur-FinnishLakelands.Helama.2014: tree: temperature' record and would like to know what's nearby for comparison. First, let's load that record into a `LipdSeries` object called `ts_finnish`."
   ]
  },
  {
   "cell_type": "code",
   "execution_count": null,
   "id": "c1c8f39d",
   "metadata": {},
   "outputs": [],
   "source": [
    "##your code here##"
   ]
  },
  {
   "cell_type": "markdown",
   "id": "b7f611fb",
   "metadata": {},
   "source": [
    "To use the mappind function, I need to give a reference LiPD object as well:"
   ]
  },
  {
   "cell_type": "code",
   "execution_count": null,
   "id": "601fff7b",
   "metadata": {},
   "outputs": [],
   "source": [
    "ts_finnish.mapNearRecord(D=d_euro)"
   ]
  },
  {
   "cell_type": "markdown",
   "id": "cd4f0b31",
   "metadata": {},
   "source": [
    "By default, Pyleoclim will select the 5 nearest record to the site and plot them with a white border. Let's increase to 8 records:"
   ]
  },
  {
   "cell_type": "code",
   "execution_count": null,
   "id": "ced3a762",
   "metadata": {},
   "outputs": [],
   "source": [
    "ts_finnish.mapNearRecord(D=d_euro, n=8)"
   ]
  },
  {
   "cell_type": "markdown",
   "id": "04210bff",
   "metadata": {},
   "source": [
    "**Exercise 2.8** \n",
    "\n",
    "Using the `LipdSeries.mapNearRecord` available parameters, plot the nearest records that are of the same archiveType as the original record."
   ]
  },
  {
   "cell_type": "code",
   "execution_count": null,
   "id": "589a6af6",
   "metadata": {},
   "outputs": [],
   "source": [
    "##your code here##"
   ]
  },
  {
   "cell_type": "markdown",
   "id": "6fe5ffea",
   "metadata": {},
   "source": [
    "**Exercise 2.9**\n",
    "\n",
    "Plot all records that are within 500km of the original timeseries."
   ]
  },
  {
   "cell_type": "code",
   "execution_count": null,
   "id": "0c2bc178",
   "metadata": {},
   "outputs": [],
   "source": [
    "##your code here##"
   ]
  },
  {
   "cell_type": "markdown",
   "id": "invisible-saudi",
   "metadata": {},
   "source": [
    "#### Dashboards\n",
    "\n",
    "[Dashboards](https://pyleoclim-util.readthedocs.io/en/master/core/ui.html#pyleoclim.core.ui.LipdSeries.dashboard) plot essential information about a `LipdSeries`, making use of various functions applicable to `Series` and `LipdSeries`. Everything is customizable by passing the appropriate arguments to each of the functionalities."
   ]
  },
  {
   "cell_type": "code",
   "execution_count": null,
   "id": "robust-playlist",
   "metadata": {},
   "outputs": [],
   "source": [
    "ts_sst.dashboard(spectralsignif_kwargs={'number':1000})"
   ]
  },
  {
   "cell_type": "markdown",
   "id": "center-glenn",
   "metadata": {},
   "source": [
    "Notice the four elements: \n",
    "1. the timeseries itself\n",
    "1. its distribution\n",
    "1. a map of the site\n",
    "1. a spectral estimate, complete with estimate of significance\n",
    "\n",
    "This is about what you need to get a synopsis of a dataset. Note that spectral analysis can be slow with long timeseries (see below)"
   ]
  },
  {
   "cell_type": "markdown",
   "id": "arabic-bumper",
   "metadata": {},
   "source": [
    "**Exercise 2.10**\n",
    "\n",
    "Create a dashboard for the d18O record from Crystal cave, removing the metadata on the right to give more space to the plots themselves. "
   ]
  },
  {
   "cell_type": "code",
   "execution_count": null,
   "id": "acute-given",
   "metadata": {},
   "outputs": [],
   "source": [
    "## your code here ##"
   ]
  },
  {
   "cell_type": "markdown",
   "id": "c5c9a825",
   "metadata": {},
   "source": [
    "**Exercise 2.11**\n",
    "\n",
    "When an ensemble is present, the dashboard can be modified to take these into accounts. Try the function while enabling ensemble.\n",
    "\n",
    "**Hint**: Read the arguments carefully, when ensemble is set to True, a `Lipd` object needs to be passed."
   ]
  },
  {
   "cell_type": "code",
   "execution_count": null,
   "id": "2872e4d2",
   "metadata": {},
   "outputs": [],
   "source": [
    "##your code here ##"
   ]
  }
 ],
 "metadata": {
  "kernelspec": {
   "display_name": "Python 3 (ipykernel)",
   "language": "python",
   "name": "python3"
  },
  "language_info": {
   "codemirror_mode": {
    "name": "ipython",
    "version": 3
   },
   "file_extension": ".py",
   "mimetype": "text/x-python",
   "name": "python",
   "nbconvert_exporter": "python",
   "pygments_lexer": "ipython3",
   "version": "3.9.6"
  }
 },
 "nbformat": 4,
 "nbformat_minor": 5
}
