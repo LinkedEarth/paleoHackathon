{
 "cells": [
  {
   "cell_type": "markdown",
   "metadata": {},
   "source": [
    "<img src='https://github.com/LinkedEarth/Logos/raw/master/PYLEOCLIM_logo_HORZ-01.png' width=\"800\">\n",
    "\n",
    "# 1. Introduction to Jupyter and Pyleoclim\n",
    "\n",
    "## Preamble\n",
    "\n",
    "For this hackathon, you will be using a Jupyter Lab environment. This notebook is designed to teach you how to use this environment, some basic Python terminology, and the data structures used by Pyleoclim. It assumes some familiarity with Python (scientific Python in particular). If a refresher is needed, we recommend these two notebooks from the [Introduction to Data Mining](https://www-users.cs.umn.edu/~kumar001/dmbook/index.php) book:\n",
    "- [Intoduction to Python](http://www.cse.msu.edu/~ptan/dmbook/tutorials/tutorial1/tutorial1.html)\n",
    "- [Introduction to Numpy and Pandas](http://www.cse.msu.edu/~ptan/dmbook/tutorials/tutorial2/tutorial2.html)\n",
    "\n",
    "## Working with datasets within a Jupyter Environment\n",
    "\n",
    "### Downloading datasets from the internet\n",
    "\n",
    "The `pip install` command is used to install software packages in Python. In this case, we are using it to install a package called `wget` which allows us to fetch datasets from the internet.\n",
    "\n",
    "To run a cell in a notebook environment, either click on play in the bar above or use the keyboard shrotcut `shift+enter`. If you are new to this environment, there is an excellent orientation available [here](https://dzone.com/articles/getting-started-with-jupyterlab)."
   ]
  },
  {
   "cell_type": "code",
   "execution_count": null,
   "metadata": {},
   "outputs": [],
   "source": [
    "!pip install wget\n",
    "!pip install demjson --upgrade  # addresses this setuptools/demjson incompatibility: https://github.com/dmeranda/demjson/issues/40"
   ]
  },
  {
   "cell_type": "markdown",
   "metadata": {},
   "source": [
    "Let's use `wget` to get the Southern Oscillation Index dataset."
   ]
  },
  {
   "cell_type": "code",
   "execution_count": null,
   "metadata": {},
   "outputs": [],
   "source": [
    "!wget https://raw.githubusercontent.com/LinkedEarth/paleoHackathon/main/data/soi_data.csv"
   ]
  },
  {
   "cell_type": "markdown",
   "metadata": {},
   "source": [
    "The text file is saved in the same folder as this Notebook.\n",
    "\n",
    "Let's look at our data. Here, you will be using the [`Pandas`](https://pandas.pydata.org) Python package, which is widely used in data science. Python in an object-oriented language, which means that it is designed to operate around data, or objects, rather than functions. Once an object is defined, operations can be applied to it.\n",
    "\n",
    "Let's have a look at the code cell below:\n",
    "- The first line imports the `pandas` package for use inside Python. \n",
    "- The second line loads the data into a `Pandas DataFrame` object. \n",
    "\n",
    "The parameter `skiprows` informs pandas to skip the first row, which is used as a title. The parameter `header` tells pandas that the second row contains the header information for the table. Note that indexing in Python starts at 0, so line 1 has index 0.\n",
    "\n",
    "- The last line of code display the table"
   ]
  },
  {
   "cell_type": "code",
   "execution_count": null,
   "metadata": {},
   "outputs": [],
   "source": [
    "import pandas as pd\n",
    "df = pd.read_csv('soi_data.csv',skiprows=0, header=1)\n",
    "display(df)"
   ]
  },
  {
   "cell_type": "markdown",
   "metadata": {},
   "source": [
    "### Uploading a dataset from your local machine\n",
    "\n",
    "You can upload a dataset from your machine onto Jupyter Lab. A tutorial is available [here](https://www.youtube.com/watch?v=1bd2QHqQSH4).\n",
    "\n",
    "**Exercise**\n",
    "1. Create a csv file on your local machine from the [Cobb et al. (2001) Palmyra record](https://www.ncei.noaa.gov/pub/data/paleo/coral/east_pacific/cobb2001_noaa.txt) on the NOAA repository. *Note*: You will have to clean up the text for import with Pandas. We suggest creating a csv by copying/pasting the data into a new Excel file and saving as csv.\n",
    "2. Upload the file to your Jupyter Lab instance using the upload arrow icon at the top of the left menu bar\n",
    "3. Open the dataset in pandas in a new object (df2)"
   ]
  },
  {
   "cell_type": "code",
   "execution_count": null,
   "metadata": {},
   "outputs": [],
   "source": [
    "# Write your code here"
   ]
  },
  {
   "cell_type": "markdown",
   "metadata": {},
   "source": [
    "### Opening a dataset from a URL\n",
    "\n",
    "`Pandas` supports the use of a URL to open a csv file without the need to download it first. All you need to do is provide the link to the dataset in `path`."
   ]
  },
  {
   "cell_type": "code",
   "execution_count": null,
   "metadata": {},
   "outputs": [],
   "source": [
    "df3 = pd.read_csv('https://raw.githubusercontent.com/LinkedEarth/Pyleoclim_util/master/example_data/soi_data.csv',skiprows=0, header=1)\n",
    "display(df3)"
   ]
  },
  {
   "cell_type": "markdown",
   "metadata": {},
   "source": [
    "## Working with Pyleoclim\n",
    "\n",
    "Pyleoclim is a Python package dedicated to the analysis of paleoclimate data. The full documentation is available [here](https://pyleoclim-util.readthedocs.io/en/stable/index.html). We actively maintain two versions of the documentation:\n",
    "* stable: refers to the released version of Pyleoclim from Pypi. As its name indicates, it is considered stable and has been tested.\n",
    "* latest: refers to the in development version. Although this version may have more up-to-date features, it is not tested and can result in unexpected behavior. \n",
    "\n",
    "You can toggle stable/latest in the bottom left corner of the screen.\n",
    "\n",
    "Let's import the package."
   ]
  },
  {
   "cell_type": "code",
   "execution_count": null,
   "metadata": {},
   "outputs": [],
   "source": [
    "import pyleoclim as pyleo"
   ]
  },
  {
   "cell_type": "markdown",
   "metadata": {},
   "source": [
    "### Working with Series objects\n",
    "\n",
    "The object at the heart of the package is the [`Series` object](https://pyleoclim-util.readthedocs.io/en/stable/core/ui.html#series-pyleoclim-series), which describes the fundamentals of a time series. \n",
    "\n",
    "Let's create a `Series` object based on the SOI data previously uploaded. To do so, one needs to invoke the `Series` class in Pyleoclim and define the properties of a `Series`, namely:\n",
    "* `time`: Time values for the time series\n",
    "* `value`: Paleo values for the time series\n",
    "* `time_name` (optional): Name of the time vector, (e.g., 'Time', 'Age'). This is used to label the x-axis on plots\n",
    "* `time_unit` (optional): The units of the time axis (e.g., 'years')\n",
    "* `value_name` (optional): The name of the paleo variable (e.g., 'Temperature')\n",
    "* `value_unit` (optional): The units of the paleo variable (e.g., 'deg C')\n",
    "* `label` (optional): Name of the time series (e.g., 'Nino 3.4')\n",
    "* `clean_ts` (optional): If True (default), remove NaNs and set an increasing time axis."
   ]
  },
  {
   "cell_type": "code",
   "execution_count": null,
   "metadata": {},
   "outputs": [],
   "source": [
    "ts=pyleo.Series(time=df3['Year'],value=df3['Value'],time_name='Years CE',value_name='SOI')"
   ]
  },
  {
   "cell_type": "markdown",
   "metadata": {},
   "source": [
    "You now have created an object called `ts` that is an instance of a `Pyleoclim Series`. You can affect the behavior of this object by applying one of the methods available for `Series` (A complete list can be found [here](https://pyleoclim-util.readthedocs.io/en/stable/core/ui.html#series-pyleoclim-series). Click on the specific function in the table to get more details.).\n",
    "\n",
    "You can also use `tab` to autocomplete in Python. For instance, try writing `ts.` then tab to see which methods are available for a `Series` object.\n",
    "\n",
    "If, at any point, you want to know the type of the object you're working with, you can use the function `type`:"
   ]
  },
  {
   "cell_type": "code",
   "execution_count": null,
   "metadata": {},
   "outputs": [],
   "source": [
    "type(ts)"
   ]
  },
  {
   "cell_type": "markdown",
   "metadata": {},
   "source": [
    "To look at any Pyleoclim object, you can use the `__dict__` method."
   ]
  },
  {
   "cell_type": "code",
   "execution_count": null,
   "metadata": {},
   "outputs": [],
   "source": [
    "ts.__dict__"
   ]
  },
  {
   "cell_type": "markdown",
   "metadata": {},
   "source": [
    "To only return the keys, use:"
   ]
  },
  {
   "cell_type": "code",
   "execution_count": null,
   "metadata": {},
   "outputs": [],
   "source": [
    "ts.__dict__.keys()"
   ]
  },
  {
   "cell_type": "markdown",
   "metadata": {},
   "source": [
    "To navigate to a value (hint you may want to check the type of the value before returning)"
   ]
  },
  {
   "cell_type": "code",
   "execution_count": null,
   "metadata": {},
   "outputs": [],
   "source": [
    "print(type(ts.__dict__['time']))\n",
    "print(type(ts.__dict__['time_name']))\n",
    "print(ts.__dict__['time_name'])"
   ]
  },
  {
   "cell_type": "markdown",
   "metadata": {},
   "source": [
    "Let's plot our timeseries. "
   ]
  },
  {
   "cell_type": "code",
   "execution_count": null,
   "metadata": {},
   "outputs": [],
   "source": [
    "ts.plot()"
   ]
  },
  {
   "cell_type": "markdown",
   "metadata": {},
   "source": [
    "You can change the plot by setting different values for the optional arguments. A list of arguments for this function is available [here](https://pyleoclim-util.readthedocs.io/en/stable/core/Series/plot.html#pyleoclim.core.ui.Series.plot).\n",
    "\n",
    "Let's use black for the plot."
   ]
  },
  {
   "cell_type": "code",
   "execution_count": null,
   "metadata": {},
   "outputs": [],
   "source": [
    "ts.plot(color='k')"
   ]
  },
  {
   "cell_type": "markdown",
   "metadata": {},
   "source": [
    "**Exercise**\n",
    "\n",
    "Create a `Pyleoclim Series` from the Palmyra record previously loaded into a Pandas dataframe and plot the record in red. "
   ]
  },
  {
   "cell_type": "code",
   "execution_count": null,
   "metadata": {},
   "outputs": [],
   "source": [
    "# Write your code here"
   ]
  },
  {
   "cell_type": "markdown",
   "metadata": {},
   "source": [
    "Other functions return a different `Series` object after the transformation has been applied. For instance, let's apply a [detrending](https://pyleoclim-util.readthedocs.io/en/stable/core/Series/detrend.html#pyleoclim.core.ui.Series.detrend) scheme to our SOI series. "
   ]
  },
  {
   "cell_type": "code",
   "execution_count": null,
   "metadata": {},
   "outputs": [],
   "source": [
    "ts_detrend =  ts.detrend()\n",
    "ts_detrend.plot()"
   ]
  },
  {
   "cell_type": "markdown",
   "metadata": {},
   "source": [
    "Since there is no long-term trend in the SOI data, the detrending didn't change the data considerably.\n",
    "\n",
    "**Exercise**\n",
    "\n",
    "1. We used the default method for detrending. According to the documentation of this function, what is the default?\n",
    "2. Create a new Series object, called `ts_detrend2` using the `savitzky-golay` method.  "
   ]
  },
  {
   "cell_type": "code",
   "execution_count": null,
   "metadata": {},
   "outputs": [],
   "source": [
    "# Write your code here"
   ]
  },
  {
   "cell_type": "markdown",
   "metadata": {},
   "source": [
    "Some functions return other objects that can be manipulated using their own methods. For instance, spectral analysis on a timeseries will return a `PSD object`, with its own plot function."
   ]
  },
  {
   "cell_type": "code",
   "execution_count": null,
   "metadata": {},
   "outputs": [],
   "source": [
    "psd = ts.spectral(method='lomb_scargle')\n",
    "psd.plot()"
   ]
  },
  {
   "cell_type": "markdown",
   "metadata": {},
   "source": [
    "**Exercise**\n",
    "\n",
    "1. Run spectral analysis on the SOI series using the MTM method. Pyleoclim will return an error.\n",
    "2. Based on this error, use a Series method to pre-process the data accordingly."
   ]
  },
  {
   "cell_type": "code",
   "execution_count": null,
   "metadata": {},
   "outputs": [],
   "source": [
    "# Write your code here"
   ]
  },
  {
   "cell_type": "markdown",
   "metadata": {},
   "source": [
    "In Python, you can also link methods in one line. For instance, detrending and spectral analysis can be achieved by the command:"
   ]
  },
  {
   "cell_type": "code",
   "execution_count": null,
   "metadata": {},
   "outputs": [],
   "source": [
    "psd_detrend = ts.detrend().spectral(method='lomb_scargle').plot() "
   ]
  },
  {
   "cell_type": "markdown",
   "metadata": {},
   "source": [
    "Note that Python processes the request in order so the `plot` method applies to the PSD object object created through `spectral` rather than the original Series object.\n",
    "\n",
    "### Working with MultipleSeries objects\n",
    "\n",
    "In some instances (e.g. PCA analysis), one may wish to work with multiple series at the same time. Enter the `MultipleSeries object`, which is basically a list of `Series` object.\n",
    "\n",
    "Let's load a difference dataframe that contains two different ENSO indices:"
   ]
  },
  {
   "cell_type": "code",
   "execution_count": null,
   "metadata": {},
   "outputs": [],
   "source": [
    "df_nino = pd.read_csv('../data/wtc_test_data_nino.csv', header=0)\n",
    "df_nino.head()"
   ]
  },
  {
   "cell_type": "markdown",
   "metadata": {},
   "source": [
    "**Exercise** \n",
    "\n",
    "Create two `Pyleoclim Series` object called `air` and `nino` respectively, corresponding to the last two columns in the DataFrame. Enter as much metadata information as you gather from [this page](https://www.mathworks.com/help/wavelet/ug/compare-time-frequency-content-in-signals-with-wavelet-coherence.html;jsessionid=e96608d0259a5c414c2a348ee3a1)"
   ]
  },
  {
   "cell_type": "code",
   "execution_count": null,
   "metadata": {},
   "outputs": [],
   "source": [
    "## your code here ##"
   ]
  },
  {
   "cell_type": "markdown",
   "metadata": {},
   "source": [
    "To create a `MultipleSeries` object, pass the two series you just created as a list:"
   ]
  },
  {
   "cell_type": "code",
   "execution_count": null,
   "metadata": {},
   "outputs": [],
   "source": [
    "ms = pyleo.MultipleSeries([air,nino])"
   ]
  },
  {
   "cell_type": "markdown",
   "metadata": {},
   "source": [
    "Let's plot them!"
   ]
  },
  {
   "cell_type": "code",
   "execution_count": null,
   "metadata": {},
   "outputs": [],
   "source": [
    "ms.plot()"
   ]
  },
  {
   "cell_type": "markdown",
   "metadata": {},
   "source": [
    "Because the two series have such different values, it doesn't make sense to plot them on the same axis. Instead, we may want to use a stackplot."
   ]
  },
  {
   "cell_type": "code",
   "execution_count": null,
   "metadata": {},
   "outputs": [],
   "source": [
    "ms.stackplot()"
   ]
  },
  {
   "cell_type": "markdown",
   "metadata": {},
   "source": [
    "**Exercise**\n",
    "\n",
    "Create two `Pyleoclim Series` for core [MD98-2170](https://www.ncei.noaa.gov/pub/data/paleo/contributions_by_author/stott2004/stott2004.txt) from Stott et al. (2004) storing information about sea surface temperature (sst) and d18Ow and load them as a `Pyleoclim MultipleSeries` object. Create a stackplot of the records.\n",
    "\n",
    "\n",
    "You will be working with the LiPD version of this record in Notebook2. "
   ]
  },
  {
   "cell_type": "code",
   "execution_count": null,
   "metadata": {},
   "outputs": [],
   "source": [
    "##your code here##"
   ]
  },
  {
   "cell_type": "markdown",
   "metadata": {},
   "source": [
    "In Notebook 2, you will learn to create these objects from LiPD files. Notebook 3-8 will make use of that object for various analyses.\n",
    "\n",
    "A special case of a `MultipleSeries` is an `EnsembleSeries` who are like multiple series but usually represents the same quantity. Such an object can be created through age modeling for instance. In Python, special cases of an object can be encoded as children. Children inherit all the methods from their parent in addition to having their own special methods. In this case, `EnsembleSeries` is a child of `MultipleSeries`. We will be dealing with `EnsembleSeries` in Notebook2. \n",
    "\n",
    "### Working with other objects in Pyleoclim\n",
    "\n",
    "As mentioned previously, other objects may be created over the course of analysis. For most applications, you will not have to create these objects by instantiating them directly. In the next few notebooks, we will work with these various objects in the course of scientific workflows.\n",
    "\n",
    "Why work with some many objects? One of the advantage of object-oriented programming is that it provides separation of duties. It is also extensible, as objects can be extended to include new attributes and behaviors. However, it means that many objects must often be created to modulate the behavior. Think about the plot() function for a `Series object` and a `PSD object`. Fundamentally, they use the same matplotlib libraries; however, they return different plots appropriate for the object over which they are applied. "
   ]
  }
 ],
 "metadata": {
  "kernelspec": {
   "display_name": "Python 3 (ipykernel)",
   "language": "python",
   "name": "python3"
  },
  "language_info": {
   "codemirror_mode": {
    "name": "ipython",
    "version": 3
   },
   "file_extension": ".py",
   "mimetype": "text/x-python",
   "name": "python",
   "nbconvert_exporter": "python",
   "pygments_lexer": "ipython3",
   "version": "3.9.6"
  }
 },
 "nbformat": 4,
 "nbformat_minor": 4
}
