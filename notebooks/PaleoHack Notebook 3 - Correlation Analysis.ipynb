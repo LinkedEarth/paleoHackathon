{
 "cells": [
  {
   "cell_type": "markdown",
   "metadata": {},
   "source": [
    "# Correlation Analysis\n",
    "\n",
    "\n",
<<<<<<< Updated upstream:notebooks/PaleoHack Notebook 3 - Correlation Analysis.ipynb
    "Correlations are ubiquitous ..."
=======
    "For this hackathon, you will be using a Jupyter Lab environment. This notebook is designed to teach you how to use this environment and some basic Python terminology. \n",
    "\n",
    "## Downloading datasets from the internet\n",
    "\n",
    "The `pip install` command is used to install software packages in Python. In this case, we are using it to install a package called `wget` which allows us to fetch datasets from the internet.\n"
   ]
  },
  {
   "cell_type": "code",
   "execution_count": 1,
   "metadata": {},
   "outputs": [
    {
     "name": "stdout",
     "output_type": "stream",
     "text": [
      "Requirement already satisfied: wget in /Users/deborahkhider/opt/anaconda3/envs/pyleoclim/lib/python3.8/site-packages (3.2)\n",
      "Note: you may need to restart the kernel to use updated packages.\n"
     ]
    }
   ],
   "source": [
    "pip install wget"
   ]
  },
  {
   "cell_type": "markdown",
   "metadata": {},
   "source": [
    "Let's use `wget` to get the Southern Oscillation Index dataset."
   ]
  },
  {
   "cell_type": "code",
   "execution_count": 9,
   "metadata": {},
   "outputs": [
    {
     "name": "stdout",
     "output_type": "stream",
     "text": [
      "--2021-01-15 11:58:29--  https://raw.githubusercontent.com/LinkedEarth/Pyleoclim_util/Development/example_data/soi_data.csv\n",
      "Resolving raw.githubusercontent.com (raw.githubusercontent.com)... 151.101.196.133\n",
      "Connecting to raw.githubusercontent.com (raw.githubusercontent.com)|151.101.196.133|:443... connected.\n",
      "HTTP request sent, awaiting response... 200 OK\n",
      "Length: 18748 (18K) [text/plain]\n",
      "Saving to: ‘soi_data.csv’\n",
      "\n",
      "soi_data.csv        100%[===================>]  18.31K  --.-KB/s    in 0.002s  \n",
      "\n",
      "2021-01-15 11:58:29 (11.7 MB/s) - ‘soi_data.csv’ saved [18748/18748]\n",
      "\n"
     ]
    }
   ],
   "source": [
    "!wget https://raw.githubusercontent.com/LinkedEarth/Pyleoclim_util/Development/example_data/soi_data.csv"
   ]
  },
  {
   "cell_type": "markdown",
   "metadata": {},
   "source": [
    "The text file is saved in the same folder as this Notebook.\n",
    "\n",
    "## Uploading a dataset from your local machine\n",
    "\n",
    "You can upload a dataset from your machine onto Jupyter Lab using the arrow up icon at the top of the sidebar.\n",
    "\n",
    "Let's look at our data. Here, you will be using the [`Pandas`](https://pandas.pydata.org) Python package, which is widely used in scientific Python.\n",
    "\n",
    "Let's have a look at the code cell below:\n",
    "- The first line imports the `pandas` package for use inside Python. \n",
    "- The second line loads the data into a `Pandas DataFrame` object. Python in an object-oriented language, which means that it is designed to operate around data, or objects, rather than functions. Once an object is defined, methods can be applied to perform computation on the object. The parameter `skiprows` inform pandas to skip the first row, which is used as a title. The parameter `header` tells pandas that the second row contains the header information for the table. Note that indexing in Python starts at 0, so line 1 has index 0.\n",
    "- The last line of code display the table"
   ]
  },
  {
   "cell_type": "code",
   "execution_count": 10,
   "metadata": {},
   "outputs": [
    {
     "data": {
      "text/html": [
       "<div>\n",
       "<style scoped>\n",
       "    .dataframe tbody tr th:only-of-type {\n",
       "        vertical-align: middle;\n",
       "    }\n",
       "\n",
       "    .dataframe tbody tr th {\n",
       "        vertical-align: top;\n",
       "    }\n",
       "\n",
       "    .dataframe thead th {\n",
       "        text-align: right;\n",
       "    }\n",
       "</style>\n",
       "<table border=\"1\" class=\"dataframe\">\n",
       "  <thead>\n",
       "    <tr style=\"text-align: right;\">\n",
       "      <th></th>\n",
       "      <th>Date</th>\n",
       "      <th>Year</th>\n",
       "      <th>Value</th>\n",
       "    </tr>\n",
       "  </thead>\n",
       "  <tbody>\n",
       "    <tr>\n",
       "      <th>0</th>\n",
       "      <td>195101</td>\n",
       "      <td>1951.000000</td>\n",
       "      <td>1.5</td>\n",
       "    </tr>\n",
       "    <tr>\n",
       "      <th>1</th>\n",
       "      <td>195102</td>\n",
       "      <td>1951.083333</td>\n",
       "      <td>0.9</td>\n",
       "    </tr>\n",
       "    <tr>\n",
       "      <th>2</th>\n",
       "      <td>195103</td>\n",
       "      <td>1951.166667</td>\n",
       "      <td>-0.1</td>\n",
       "    </tr>\n",
       "    <tr>\n",
       "      <th>3</th>\n",
       "      <td>195104</td>\n",
       "      <td>1951.250000</td>\n",
       "      <td>-0.3</td>\n",
       "    </tr>\n",
       "    <tr>\n",
       "      <th>4</th>\n",
       "      <td>195105</td>\n",
       "      <td>1951.333333</td>\n",
       "      <td>-0.7</td>\n",
       "    </tr>\n",
       "    <tr>\n",
       "      <th>...</th>\n",
       "      <td>...</td>\n",
       "      <td>...</td>\n",
       "      <td>...</td>\n",
       "    </tr>\n",
       "    <tr>\n",
       "      <th>823</th>\n",
       "      <td>201908</td>\n",
       "      <td>2019.583333</td>\n",
       "      <td>-0.1</td>\n",
       "    </tr>\n",
       "    <tr>\n",
       "      <th>824</th>\n",
       "      <td>201909</td>\n",
       "      <td>2019.666667</td>\n",
       "      <td>-1.2</td>\n",
       "    </tr>\n",
       "    <tr>\n",
       "      <th>825</th>\n",
       "      <td>201910</td>\n",
       "      <td>2019.750000</td>\n",
       "      <td>-0.4</td>\n",
       "    </tr>\n",
       "    <tr>\n",
       "      <th>826</th>\n",
       "      <td>201911</td>\n",
       "      <td>2019.833333</td>\n",
       "      <td>-0.8</td>\n",
       "    </tr>\n",
       "    <tr>\n",
       "      <th>827</th>\n",
       "      <td>201912</td>\n",
       "      <td>2019.916667</td>\n",
       "      <td>-0.6</td>\n",
       "    </tr>\n",
       "  </tbody>\n",
       "</table>\n",
       "<p>828 rows × 3 columns</p>\n",
       "</div>"
      ],
      "text/plain": [
       "       Date         Year  Value\n",
       "0    195101  1951.000000    1.5\n",
       "1    195102  1951.083333    0.9\n",
       "2    195103  1951.166667   -0.1\n",
       "3    195104  1951.250000   -0.3\n",
       "4    195105  1951.333333   -0.7\n",
       "..      ...          ...    ...\n",
       "823  201908  2019.583333   -0.1\n",
       "824  201909  2019.666667   -1.2\n",
       "825  201910  2019.750000   -0.4\n",
       "826  201911  2019.833333   -0.8\n",
       "827  201912  2019.916667   -0.6\n",
       "\n",
       "[828 rows x 3 columns]"
      ]
     },
     "metadata": {},
     "output_type": "display_data"
    }
   ],
   "source": [
    "import pandas as pd\n",
    "df = pd.read_csv('soi_data.csv',skiprows=0, header=1)\n",
    "display(df)"
>>>>>>> Stashed changes:notebooks/.ipynb_checkpoints/01-Introduction to Jupyter-checkpoint.ipynb
   ]
  },
  {
   "cell_type": "code",
   "execution_count": null,
   "metadata": {},
   "outputs": [],
   "source": []
  }
 ],
 "metadata": {
  "kernelspec": {
   "display_name": "Python 3",
   "language": "python",
   "name": "python3"
  },
  "language_info": {
   "codemirror_mode": {
    "name": "ipython",
    "version": 3
   },
   "file_extension": ".py",
   "mimetype": "text/x-python",
   "name": "python",
   "nbconvert_exporter": "python",
   "pygments_lexer": "ipython3",
   "version": "3.8.5"
  }
 },
 "nbformat": 4,
 "nbformat_minor": 4
}
